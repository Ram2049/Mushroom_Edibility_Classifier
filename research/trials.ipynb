{
 "cells": [
  {
   "cell_type": "code",
   "execution_count": null,
   "id": "99d901b8",
   "metadata": {},
   "outputs": [
    {
     "name": "stderr",
     "output_type": "stream",
     "text": [
      "WARNING:absl:Compiled the loaded model, but the compiled metrics have yet to be built. `model.compile_metrics` will be empty until you train or evaluate the model.\n"
     ]
    },
    {
     "ename": "FileNotFoundError",
     "evalue": "[Errno 2] No such file or directory: 'Agaricus_bisporus_000006_0e.jpg'",
     "output_type": "error",
     "traceback": [
      "\u001b[1;31m---------------------------------------------------------------------------\u001b[0m",
      "\u001b[1;31mFileNotFoundError\u001b[0m                         Traceback (most recent call last)",
      "Cell \u001b[1;32mIn[15], line 10\u001b[0m\n\u001b[0;32m      8\u001b[0m \u001b[38;5;66;03m# 2. Load and preprocess test image\u001b[39;00m\n\u001b[0;32m      9\u001b[0m img_path \u001b[38;5;241m=\u001b[39m \u001b[38;5;124m'\u001b[39m\u001b[38;5;124mAgaricus_bisporus_000006_0e.jpg\u001b[39m\u001b[38;5;124m'\u001b[39m  \u001b[38;5;66;03m# Replace with your test image\u001b[39;00m\n\u001b[1;32m---> 10\u001b[0m img \u001b[38;5;241m=\u001b[39m \u001b[43mimage\u001b[49m\u001b[38;5;241;43m.\u001b[39;49m\u001b[43mload_img\u001b[49m\u001b[43m(\u001b[49m\u001b[43mimg_path\u001b[49m\u001b[43m,\u001b[49m\u001b[43m \u001b[49m\u001b[43mtarget_size\u001b[49m\u001b[38;5;241;43m=\u001b[39;49m\u001b[43m(\u001b[49m\u001b[38;5;241;43m224\u001b[39;49m\u001b[43m,\u001b[49m\u001b[43m \u001b[49m\u001b[38;5;241;43m224\u001b[39;49m\u001b[43m)\u001b[49m\u001b[43m)\u001b[49m  \u001b[38;5;66;03m# Match model's input size\u001b[39;00m\n\u001b[0;32m     11\u001b[0m img_array \u001b[38;5;241m=\u001b[39m image\u001b[38;5;241m.\u001b[39mimg_to_array(img)\n\u001b[0;32m     12\u001b[0m img_array \u001b[38;5;241m=\u001b[39m np\u001b[38;5;241m.\u001b[39mexpand_dims(img_array, axis\u001b[38;5;241m=\u001b[39m\u001b[38;5;241m0\u001b[39m) \u001b[38;5;241m/\u001b[39m \u001b[38;5;241m255.0\u001b[39m  \u001b[38;5;66;03m# Normalize if needed\u001b[39;00m\n",
      "File \u001b[1;32md:\\Project\\ETE_Projects\\image_classifer\\Mushroom_Edibility_Classifier\\venv\\lib\\site-packages\\keras\\src\\utils\\image_utils.py:235\u001b[0m, in \u001b[0;36mload_img\u001b[1;34m(path, color_mode, target_size, interpolation, keep_aspect_ratio)\u001b[0m\n\u001b[0;32m    233\u001b[0m     \u001b[38;5;28;01mif\u001b[39;00m \u001b[38;5;28misinstance\u001b[39m(path, pathlib\u001b[38;5;241m.\u001b[39mPath):\n\u001b[0;32m    234\u001b[0m         path \u001b[38;5;241m=\u001b[39m \u001b[38;5;28mstr\u001b[39m(path\u001b[38;5;241m.\u001b[39mresolve())\n\u001b[1;32m--> 235\u001b[0m     \u001b[38;5;28;01mwith\u001b[39;00m \u001b[38;5;28;43mopen\u001b[39;49m\u001b[43m(\u001b[49m\u001b[43mpath\u001b[49m\u001b[43m,\u001b[49m\u001b[43m \u001b[49m\u001b[38;5;124;43m\"\u001b[39;49m\u001b[38;5;124;43mrb\u001b[39;49m\u001b[38;5;124;43m\"\u001b[39;49m\u001b[43m)\u001b[49m \u001b[38;5;28;01mas\u001b[39;00m f:\n\u001b[0;32m    236\u001b[0m         img \u001b[38;5;241m=\u001b[39m pil_image\u001b[38;5;241m.\u001b[39mopen(io\u001b[38;5;241m.\u001b[39mBytesIO(f\u001b[38;5;241m.\u001b[39mread()))\n\u001b[0;32m    237\u001b[0m \u001b[38;5;28;01melse\u001b[39;00m:\n",
      "\u001b[1;31mFileNotFoundError\u001b[0m: [Errno 2] No such file or directory: 'Agaricus_bisporus_000006_0e.jpg'"
     ]
    }
   ],
   "source": [
    "import numpy as np\n",
    "from tensorflow.keras.models import load_model\n",
    "from tensorflow.keras.preprocessing import image\n",
    "\n",
    "# 1. Load your model\n",
    "model = load_model(\"D:/Project/ETE_Projects/image_classifer/Mushroom_Edibility_Classifier/artifacts/training/model.h5\")  # Update path\n",
    "\n",
    "# 2. Load and preprocess test image\n",
    "img_path = 'Cortinarius_rubellus_000008_1.jpg'  # Replace with your test image\n",
    "img = image.load_img(img_path, target_size=(224, 224))  # Match model's input size\n",
    "img_array = image.img_to_array(img)\n",
    "img_array = np.expand_dims(img_array, axis=0) / 255.0  # Normalize if needed\n",
    "\n",
    "# 3. Make prediction\n",
    "prediction = model.predict(img_array)\n",
    "class_idx = np.argmax(prediction[0])\n",
    "confidence = np.max(prediction[0])\n",
    "\n",
    "# 4. Print results\n",
    "classes = {0: 'Poisonous', 1: 'Edible'}  # Update based on your model\n",
    "print(f\"Model Output (Raw): {prediction}\")\n",
    "print(f\"Predicted Class: {classes[class_idx]}\")\n",
    "print(f\"Confidence: {confidence:.2%}\")\n",
    "\n",
    "# 5. Quick verification\n",
    "print(\"\\nBasic Checks:\")\n",
    "print(f\"- Model input shape: {model.input_shape}\")\n",
    "print(f\"- Model output shape: {model.output_shape}\")\n",
    "print(f\"- Prediction sum: {np.sum(prediction):.2f} (Should be ~1.0 for softmax)\")"
   ]
  },
  {
   "cell_type": "code",
   "execution_count": null,
   "id": "c084dc1b",
   "metadata": {},
   "outputs": [],
   "source": [
    "# Initialize classifier\n",
    "classifier = MushroomClassifier(\"artifacts/training/model.h5\")\n",
    "\n",
    "# Make prediction\n",
    "result = classifier.predict(\"inputImage.jpg\")\n",
    "print(f\"Prediction: {result['class']} (Confidence: {result['confidence']:.2%})\")\n",
    "\n",
    "# Output example:\n",
    "# Prediction: Edible (Confidence: 98.72%)"
   ]
  }
 ],
 "metadata": {
  "kernelspec": {
   "display_name": "Python 3",
   "language": "python",
   "name": "python3"
  },
  "language_info": {
   "codemirror_mode": {
    "name": "ipython",
    "version": 3
   },
   "file_extension": ".py",
   "mimetype": "text/x-python",
   "name": "python",
   "nbconvert_exporter": "python",
   "pygments_lexer": "ipython3",
   "version": "3.10.0"
  }
 },
 "nbformat": 4,
 "nbformat_minor": 5
}
