{
 "cells": [
  {
   "cell_type": "code",
   "execution_count": 3,
   "id": "cbc08ab3",
   "metadata": {},
   "outputs": [],
   "source": [
    "import os\n",
    "\n",
    "os.chdir(\"../\")"
   ]
  },
  {
   "cell_type": "code",
   "execution_count": 9,
   "id": "493ef8c9",
   "metadata": {},
   "outputs": [
    {
     "data": {
      "text/plain": [
       "'d:\\\\Project\\\\ETE_Projects\\\\image_classifer\\\\Mushroom_Edibility_Classifier'"
      ]
     },
     "execution_count": 9,
     "metadata": {},
     "output_type": "execute_result"
    }
   ],
   "source": [
    "%pwd"
   ]
  },
  {
   "cell_type": "code",
   "execution_count": 10,
   "id": "078ad99f",
   "metadata": {},
   "outputs": [],
   "source": [
    "from dataclasses import dataclass\n",
    "from pathlib import Path\n",
    "\n",
    "\n",
    "@dataclass(frozen=True)\n",
    "class TrainingConfig:\n",
    "    root_dir: Path\n",
    "    trained_model_path: Path\n",
    "    updated_base_model_path: Path\n",
    "    training_data: Path\n",
    "    params_epochs: int\n",
    "    params_batch_size: int\n",
    "    params_is_augmentation: bool\n",
    "    params_image_size: list\n",
    "    training_data : Path\n",
    "    validation_data : Path\n",
    "    test_data : Path\n",
    "\n",
    "\n",
    "\n",
    "@dataclass\n",
    "class PrepareCallbackConfig:\n",
    "    root_dir: Path\n",
    "    checkpoint_dir: Path \n",
    "    tensorboard_dir: Path \n",
    "    "
   ]
  },
  {
   "cell_type": "code",
   "execution_count": 11,
   "id": "6bb31c4a",
   "metadata": {},
   "outputs": [],
   "source": [
    "from Mushroom_edibility_classifier.constants import *\n",
    "from Mushroom_edibility_classifier.utils.common import read_yaml, create_directories\n"
   ]
  },
  {
   "cell_type": "code",
   "execution_count": 12,
   "id": "81f0dd6a",
   "metadata": {},
   "outputs": [],
   "source": [
    "class ConfigurationManager:\n",
    "    def __init__(\n",
    "        self, \n",
    "        config_filepath = CONFIG_FILE_PATH,\n",
    "        params_filepath = PARAMS_FILE_PATH):\n",
    "        \n",
    "        self.config = read_yaml(config_filepath)\n",
    "        self.params = read_yaml(params_filepath)\n",
    "        create_directories([self.config.artifacts_root])\n",
    "\n",
    "    def PrepareCallbackConfig(self) -> PrepareCallbackConfig:\n",
    "        config = self.config.prepare_callbacks\n",
    "        model_checkpoint_dir = os.path.dirname(config.checkpoint_path)\n",
    "        tensorboard_dir = Path(config.tensorboard_dir)\n",
    "        root_dir = Path(self.config.artifacts_root)\n",
    "\n",
    "        create_directories([model_checkpoint_dir, tensorboard_dir])\n",
    "\n",
    "        prepare_callback_config = PrepareCallbackConfig(\n",
    "            root_dir=Path(root_dir),\n",
    "            checkpoint_dir=Path(model_checkpoint_dir),\n",
    "            tensorboard_dir=Path(tensorboard_dir)\n",
    "        )\n",
    "\n",
    "        return prepare_callback_config\n",
    "    \n",
    "    def get_training_config(self) -> TrainingConfig:\n",
    "        training = self.config.training\n",
    "        prepare_base_model = self.config.prepare_base_model\n",
    "        params = self.params\n",
    "        \n",
    "        # Paths to pre-split datasets\n",
    "        base_data_dir = Path(self.config.data_ingestion.unzip_dir)\n",
    "        training_data = base_data_dir / \"splitted_dataset/train\"  # Changed to train folder\n",
    "        validation_data = base_data_dir / \"splitted_dataset/val\"   # Added validation path\n",
    "        test_data = base_data_dir / \"splitted_dataset/test\"       # Added test path (optional)\n",
    "\n",
    "        # Create required directories\n",
    "        create_directories([\n",
    "            Path(training.root_dir),\n",
    "            validation_data,  # Ensure val directory exists\n",
    "            test_data         # Ensure test directory exists (if used)\n",
    "        ])\n",
    "\n",
    "        training_config = TrainingConfig(\n",
    "            root_dir=Path(training.root_dir),\n",
    "            trained_model_path=Path(training.trained_model_path),\n",
    "            updated_base_model_path=Path(prepare_base_model.updated_base_model_path),\n",
    "            training_data=training_data,\n",
    "            validation_data=validation_data,  # Added\n",
    "            test_data=test_data,              # Added (optional)\n",
    "            params_epochs=params.EPOCHS,\n",
    "            params_batch_size=params.BATCH_SIZE,\n",
    "            params_is_augmentation=params.AUGMENTATION,\n",
    "            params_image_size=params.IMAGE_SIZE\n",
    "        )\n",
    "\n",
    "        return training_config"
   ]
  },
  {
   "cell_type": "code",
   "execution_count": 8,
   "id": "8f801ef4",
   "metadata": {},
   "outputs": [
    {
     "ename": "NameError",
     "evalue": "name 'self' is not defined",
     "output_type": "error",
     "traceback": [
      "\u001b[1;31m---------------------------------------------------------------------------\u001b[0m",
      "\u001b[1;31mNameError\u001b[0m                                 Traceback (most recent call last)",
      "Cell \u001b[1;32mIn[8], line 1\u001b[0m\n\u001b[1;32m----> 1\u001b[0m \u001b[38;5;28;43mself\u001b[39;49m\u001b[38;5;241m.\u001b[39mconfig\u001b[38;5;241m.\u001b[39mtraining\n",
      "\u001b[1;31mNameError\u001b[0m: name 'self' is not defined"
     ]
    }
   ],
   "source": [
    "self.config.training"
   ]
  },
  {
   "cell_type": "code",
   "execution_count": 13,
   "id": "9d535e95",
   "metadata": {},
   "outputs": [],
   "source": [
    "import time\n",
    "import tensorflow as tf"
   ]
  },
  {
   "cell_type": "code",
   "execution_count": 14,
   "id": "20cd238b",
   "metadata": {},
   "outputs": [],
   "source": [
    "class PrepareCallback:\n",
    "    def __init__(self, config: PrepareCallbackConfig):\n",
    "        self.config = config\n",
    "\n",
    "\n",
    "    \n",
    "    @property\n",
    "    def _create_tb_callbacks(self):\n",
    "        timestamp = time.strftime(\"%Y-%m-%d-%H-%M-%S\")\n",
    "        tb_running_log_dir = os.path.join(\n",
    "            self.config.tensorboard_dir,\n",
    "            f\"tb_logs_at_{timestamp}\",\n",
    "        )\n",
    "        return tf.keras.callbacks.TensorBoard(log_dir=tb_running_log_dir)\n",
    "    \n",
    "\n",
    "    @property\n",
    "    def _create_ckpt_callbacks(self):\n",
    "        return tf.keras.callbacks.ModelCheckpoint(\n",
    "            filepath=os.path.join(self.config.checkpoint_dir,\"model.keras\"),\n",
    "            save_best_only=True\n",
    "        )\n",
    "\n",
    "    def get_tb_ckpt_callbacks(self):\n",
    "        return [\n",
    "            self._create_tb_callbacks,\n",
    "            self._create_ckpt_callbacks\n",
    "        ]"
   ]
  },
  {
   "cell_type": "code",
   "execution_count": 15,
   "id": "302244fb",
   "metadata": {},
   "outputs": [],
   "source": [
    "import os\n",
    "import urllib.request as request\n",
    "from zipfile import ZipFile\n",
    "import time\n",
    "import tensorflow as tf\n",
    "from pathlib import Path\n",
    "from typing import List, Optional"
   ]
  },
  {
   "cell_type": "code",
   "execution_count": null,
   "id": "fa5cd34a",
   "metadata": {},
   "outputs": [
    {
     "name": "stdout",
     "output_type": "stream",
     "text": [
      "[2025-06-06 20:54:16,882: WARNING: module_wrapper: From C:\\Users\\ramsp\\AppData\\Local\\Temp\\ipykernel_1088\\2827125363.py:1: The name tf.enable_eager_execution is deprecated. Please use tf.compat.v1.enable_eager_execution instead.\n",
      "]\n",
      "Eager execution enabled: True\n"
     ]
    }
   ],
   "source": []
  },
  {
   "cell_type": "code",
   "execution_count": null,
   "id": "2a654941",
   "metadata": {},
   "outputs": [
    {
     "name": "stdout",
     "output_type": "stream",
     "text": [
      "WARNING:tensorflow:From C:\\Users\\ramsp\\AppData\\Local\\Temp\\ipykernel_20816\\130072089.py:1: The name tf.enable_eager_execution is deprecated. Please use tf.compat.v1.enable_eager_execution instead.\n",
      "\n",
      "[2025-06-06 22:37:59,432: WARNING: module_wrapper: From C:\\Users\\ramsp\\AppData\\Local\\Temp\\ipykernel_20816\\130072089.py:1: The name tf.enable_eager_execution is deprecated. Please use tf.compat.v1.enable_eager_execution instead.\n",
      "]\n",
      "Eager execution enabled: True\n"
     ]
    }
   ],
   "source": [
    "tf.compat.v1.enable_eager_execution()\n",
    "print(\"Eager execution enabled:\", tf.executing_eagerly())\n",
    "\n",
    "class Training:\n",
    "    def __init__(self, config: TrainingConfig):\n",
    "        self.config = config\n",
    "        tf.config.run_functions_eagerly(True) \n",
    "    \n",
    "    def get_base_model(self):\n",
    "        \"\"\"Load the base model for training\"\"\"\n",
    "        self.model = tf.keras.models.load_model(\n",
    "            self.config.updated_base_model_path\n",
    "        )\n",
    "    \n",
    "    def create_data_generators(self):\n",
    "        \"\"\"Create data generators for pre-split train/val/test datasets\"\"\"\n",
    "        # Common preprocessing parameters\n",
    "        datagen_kwargs = dict(\n",
    "            rescale=1./255,\n",
    "        )\n",
    "\n",
    "        # Common flow parameters\n",
    "        flow_kwargs = dict(\n",
    "            target_size=self.config.params_image_size[:-1],\n",
    "            batch_size=self.config.params_batch_size,\n",
    "            interpolation=\"bilinear\",\n",
    "            class_mode='categorical'\n",
    "        )\n",
    "\n",
    "        # Validation generator (no augmentation)\n",
    "        val_datagen = tf.keras.preprocessing.image.ImageDataGenerator(**datagen_kwargs)\n",
    "        self.val_generator = val_datagen.flow_from_directory(\n",
    "            directory=self.config.validation_data,  # Path to validation folder\n",
    "            shuffle=False,\n",
    "            **flow_kwargs\n",
    "        )\n",
    "\n",
    "        # Training generator (with optional augmentation)\n",
    "        if self.config.params_is_augmentation:\n",
    "            train_datagen = tf.keras.preprocessing.image.ImageDataGenerator(\n",
    "                rotation_range=40,\n",
    "                horizontal_flip=True,\n",
    "                width_shift_range=0.2,\n",
    "                height_shift_range=0.2,\n",
    "                shear_range=0.2,\n",
    "                zoom_range=0.2,\n",
    "                **datagen_kwargs\n",
    "            )\n",
    "        else:\n",
    "            train_datagen = tf.keras.preprocessing.image.ImageDataGenerator(**datagen_kwargs)\n",
    "\n",
    "        self.train_generator = train_datagen.flow_from_directory(\n",
    "            directory=self.config.training_data,  # Path to train folder\n",
    "            shuffle=True,\n",
    "            **flow_kwargs\n",
    "        )\n",
    "\n",
    "        # Optional test generator\n",
    "        if hasattr(self.config, 'test_data'):\n",
    "            test_datagen = tf.keras.preprocessing.image.ImageDataGenerator(**datagen_kwargs)\n",
    "            self.test_generator = test_datagen.flow_from_directory(\n",
    "                directory=self.config.test_data,\n",
    "                shuffle=False,\n",
    "                **flow_kwargs\n",
    "            )\n",
    "\n",
    "    @staticmethod\n",
    "    def save_model(path: Path, model: tf.keras.Model):\n",
    "        \"\"\"Save the trained model\"\"\"\n",
    "        model.save(path)\n",
    "\n",
    "    def train(self, callback_list: Optional[List[tf.keras.callbacks.Callback]] = None):\n",
    "        \"\"\"Train the model with callbacks\"\"\"\n",
    "        if callback_list is None:\n",
    "            callback_list = []\n",
    "\n",
    "        # Calculate steps\n",
    "        self.steps_per_epoch = self.train_generator.samples // self.train_generator.batch_size\n",
    "        self.validation_steps = self.val_generator.samples // self.val_generator.batch_size\n",
    "        self.model.optimizer = tf.keras.optimizers.Adam()\n",
    "\n",
    "        # Train the model\n",
    "        history = self.model.fit(\n",
    "            self.train_generator,\n",
    "            epochs=self.config.params_epochs,\n",
    "            steps_per_epoch=self.steps_per_epoch,\n",
    "            validation_data=self.val_generator,\n",
    "            validation_steps=self.validation_steps,\n",
    "            callbacks=callback_list\n",
    "        )\n",
    "\n",
    "        # Save and return training history\n",
    "        self.save_model(self.config.trained_model_path, self.model)\n",
    "        \n"
   ]
  },
  {
   "cell_type": "code",
   "execution_count": null,
   "id": "7a1427c3",
   "metadata": {},
   "outputs": [
    {
     "ename": "AttributeError",
     "evalue": "'ConfigurationManager' object has no attribute 'test_data'",
     "output_type": "error",
     "traceback": [
      "\u001b[1;31m---------------------------------------------------------------------------\u001b[0m",
      "\u001b[1;31mAttributeError\u001b[0m                            Traceback (most recent call last)",
      "Cell \u001b[1;32mIn[53], line 1\u001b[0m\n\u001b[1;32m----> 1\u001b[0m \u001b[43mconfig\u001b[49m\u001b[38;5;241;43m.\u001b[39;49m\u001b[43mtest_data\u001b[49m\n",
      "\u001b[1;31mAttributeError\u001b[0m: 'ConfigurationManager' object has no attribute 'test_data'"
     ]
    }
   ],
   "source": [
    "config.test_data"
   ]
  },
  {
   "cell_type": "code",
   "execution_count": null,
   "id": "fd20e5d8",
   "metadata": {},
   "outputs": [
    {
     "name": "stdout",
     "output_type": "stream",
     "text": [
      "[2025-06-06 22:38:11,631: INFO: common: yaml file: config\\config.yaml loaded successfully]\n",
      "[2025-06-06 22:38:11,640: INFO: common: yaml file: params.yaml loaded successfully]\n",
      "[2025-06-06 22:38:11,643: INFO: common: created directory at: artifacts]\n",
      "[2025-06-06 22:38:11,645: INFO: common: created directory at: artifacts/prepare_callbacks/checkpoint_dir]\n",
      "[2025-06-06 22:38:11,646: INFO: common: created directory at: artifacts\\prepare_callbacks\\tensorboard_logs]\n",
      "[2025-06-06 22:38:11,647: INFO: common: created directory at: artifacts\\training]\n",
      "[2025-06-06 22:38:11,648: INFO: common: created directory at: artifacts\\data_ingestion\\splitted_dataset\\val]\n",
      "[2025-06-06 22:38:11,648: INFO: common: created directory at: artifacts\\data_ingestion\\splitted_dataset\\test]\n",
      "[2025-06-06 22:38:12,055: WARNING: saving_utils: Compiled the loaded model, but the compiled metrics have yet to be built. `model.compile_metrics` will be empty until you train or evaluate the model.]\n",
      "Found 282 images belonging to 2 classes.\n",
      "Found 2256 images belonging to 2 classes.\n",
      "Found 282 images belonging to 2 classes.\n"
     ]
    },
    {
     "name": "stderr",
     "output_type": "stream",
     "text": [
      "d:\\Project\\ETE_Projects\\image_classifer\\Mushroom_Edibility_Classifier\\venv\\lib\\site-packages\\keras\\src\\trainers\\data_adapters\\py_dataset_adapter.py:121: UserWarning: Your `PyDataset` class should call `super().__init__(**kwargs)` in its constructor. `**kwargs` can include `workers`, `use_multiprocessing`, `max_queue_size`. Do not pass these arguments to `fit()`, as they will be ignored.\n",
      "  self._warn_if_super_not_called()\n"
     ]
    },
    {
     "name": "stdout",
     "output_type": "stream",
     "text": [
      "Epoch 1/60\n"
     ]
    },
    {
     "name": "stderr",
     "output_type": "stream",
     "text": [
      "d:\\Project\\ETE_Projects\\image_classifer\\Mushroom_Edibility_Classifier\\venv\\lib\\site-packages\\tensorflow\\python\\data\\ops\\structured_function.py:258: UserWarning: Even though the `tf.config.experimental_run_functions_eagerly` option is set, this option does not apply to tf.data functions. To force eager execution of tf.data functions, please use `tf.data.experimental.enable_debug_mode()`.\n",
      "  warnings.warn(\n"
     ]
    },
    {
     "name": "stdout",
     "output_type": "stream",
     "text": [
      "\u001b[1m203/282\u001b[0m \u001b[32m━━━━━━━━━━━━━━\u001b[0m\u001b[37m━━━━━━\u001b[0m \u001b[1m6:29\u001b[0m 5s/step - accuracy: 0.6107 - loss: 1.1120"
     ]
    }
   ],
   "source": [
    "try:\n",
    "    config = ConfigurationManager()\n",
    "    prepare_callbacks_config = config.PrepareCallbackConfig()\n",
    "    prepare_callbacks = PrepareCallback(config=prepare_callbacks_config)\n",
    "    callback_list = prepare_callbacks.get_tb_ckpt_callbacks()\n",
    "\n",
    "    training_config = config.get_training_config()\n",
    "    training = Training(config=training_config)\n",
    "    training.get_base_model()\n",
    "    training.create_data_generators()\n",
    "    training.train(\n",
    "        callback_list=callback_list\n",
    "    )\n",
    "    \n",
    "except Exception as e:\n",
    "    raise e"
   ]
  },
  {
   "cell_type": "code",
   "execution_count": null,
   "id": "b61a210f",
   "metadata": {},
   "outputs": [
    {
     "name": "stdout",
     "output_type": "stream",
     "text": [
      "[]\n"
     ]
    }
   ],
   "source": [
    "import tensorflow as tf\n",
    "print(tf.config.list_physical_devices('GPU'))\n"
   ]
  },
  {
   "cell_type": "code",
   "execution_count": null,
   "id": "cda46076",
   "metadata": {},
   "outputs": [
    {
     "name": "stdout",
     "output_type": "stream",
     "text": [
      "Fri Jun  6 22:05:24 2025       \n",
      "+-----------------------------------------------------------------------------------------+\n",
      "| NVIDIA-SMI 576.52                 Driver Version: 576.52         CUDA Version: 12.9     |\n",
      "|-----------------------------------------+------------------------+----------------------+\n",
      "| GPU  Name                  Driver-Model | Bus-Id          Disp.A | Volatile Uncorr. ECC |\n",
      "| Fan  Temp   Perf          Pwr:Usage/Cap |           Memory-Usage | GPU-Util  Compute M. |\n",
      "|                                         |                        |               MIG M. |\n",
      "|=========================================+========================+======================|\n",
      "|   0  NVIDIA GeForce GTX 1650      WDDM  |   00000000:01:00.0 Off |                  N/A |\n",
      "| N/A   58C    P8              4W /   50W |       0MiB /   4096MiB |      0%      Default |\n",
      "|                                         |                        |                  N/A |\n",
      "+-----------------------------------------+------------------------+----------------------+\n",
      "                                                                                         \n",
      "+-----------------------------------------------------------------------------------------+\n",
      "| Processes:                                                                              |\n",
      "|  GPU   GI   CI              PID   Type   Process name                        GPU Memory |\n",
      "|        ID   ID                                                               Usage      |\n",
      "|=========================================================================================|\n",
      "|  No running processes found                                                             |\n",
      "+-----------------------------------------------------------------------------------------+\n"
     ]
    }
   ],
   "source": [
    "!nvidia-smi"
   ]
  }
 ],
 "metadata": {
  "kernelspec": {
   "display_name": "Python 3",
   "language": "python",
   "name": "python3"
  },
  "language_info": {
   "codemirror_mode": {
    "name": "ipython",
    "version": 3
   },
   "file_extension": ".py",
   "mimetype": "text/x-python",
   "name": "python",
   "nbconvert_exporter": "python",
   "pygments_lexer": "ipython3",
   "version": "3.10.0"
  }
 },
 "nbformat": 4,
 "nbformat_minor": 5
}
