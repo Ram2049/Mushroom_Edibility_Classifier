{
 "cells": [
  {
   "cell_type": "code",
   "execution_count": 1,
   "id": "bd2f75e2",
   "metadata": {},
   "outputs": [
    {
     "data": {
      "text/plain": [
       "'d:\\\\Project\\\\ETE_Projects\\\\image_classifer\\\\Mushroom_Edibility_Classifier\\\\research'"
      ]
     },
     "execution_count": 1,
     "metadata": {},
     "output_type": "execute_result"
    }
   ],
   "source": [
    "%pwd"
   ]
  },
  {
   "cell_type": "code",
   "execution_count": 2,
   "id": "fcb42800",
   "metadata": {},
   "outputs": [],
   "source": [
    "import os \n",
    "\n",
    "os.chdir(\"../\")"
   ]
  },
  {
   "cell_type": "code",
   "execution_count": 46,
   "id": "550dc0b1",
   "metadata": {},
   "outputs": [],
   "source": [
    "from dataclasses import dataclass\n",
    "from pathlib import Path\n",
    "\n",
    "@dataclass\n",
    "class PrepareCallbackConfig:\n",
    "    root_dir: Path\n",
    "    checkpoint_dir: Path \n",
    "    tensorboard_dir: Path \n",
    "    \n",
    "    "
   ]
  },
  {
   "cell_type": "code",
   "execution_count": 4,
   "id": "52d53b01",
   "metadata": {},
   "outputs": [],
   "source": [
    "from Mushroom_edibility_classifier.constants import *\n",
    "from Mushroom_edibility_classifier.utils.common import read_yaml, create_directories"
   ]
  },
  {
   "cell_type": "code",
   "execution_count": 40,
   "id": "e1e434b8",
   "metadata": {},
   "outputs": [],
   "source": [
    "class ConfigurationManager:\n",
    "    def __init__(\n",
    "        self, \n",
    "        config_filepath = CONFIG_FILE_PATH,\n",
    "        params_filepath = PARAMS_FILE_PATH):\n",
    "        \n",
    "        self.config = read_yaml(config_filepath)\n",
    "        self.params = read_yaml(params_filepath)\n",
    "        create_directories([self.config.artifacts_root])\n",
    "\n",
    "\n",
    "    def PrepareCallbackConfig(self) -> PrepareCallbackConfig:\n",
    "        config = self.config.prepare_callbacks\n",
    "        model_checkpoint_dir = os.path.dirname(config.checkpoint_path)\n",
    "        tensorboard_dir = Path(config.tensorboard_dir)\n",
    "        root_dir = Path(self.config.artifacts_root)\n",
    "\n",
    "        create_directories([model_checkpoint_dir, tensorboard_dir])\n",
    "\n",
    "        prepare_callback_config = PrepareCallbackConfig(\n",
    "            root_dir=Path(root_dir),\n",
    "            checkpoint_dir=Path(model_checkpoint_dir),\n",
    "            tensorboard_dir=Path(tensorboard_dir)\n",
    "        )\n",
    "\n",
    "        return prepare_callback_config"
   ]
  },
  {
   "cell_type": "code",
   "execution_count": 26,
   "id": "60ce9743",
   "metadata": {},
   "outputs": [],
   "source": [
    "import os \n",
    "import urllib.request as request\n",
    "from zipfile import ZipFile\n",
    "import tensorflow as tf\n",
    "import time\n",
    "\n"
   ]
  },
  {
   "cell_type": "code",
   "execution_count": 57,
   "id": "74288182",
   "metadata": {},
   "outputs": [],
   "source": [
    "class PrepareCallback:\n",
    "    def __init__(self, config: PrepareCallbackConfig):\n",
    "        self.config = config\n",
    "\n",
    "\n",
    "    \n",
    "    @property\n",
    "    def _create_tb_callbacks(self):\n",
    "        timestamp = time.strftime(\"%Y-%m-%d-%H-%M-%S\")\n",
    "        tb_running_log_dir = os.path.join(\n",
    "            self.config.tensorboard_dir,\n",
    "            f\"tb_logs_at_{timestamp}\"\n",
    "        )\n",
    "        return tf.keras.callbacks.TensorBoard(log_dir=tb_running_log_dir)\n",
    "    \n",
    "\n",
    "    @property\n",
    "    def _create_ckpt_callbacks(self):\n",
    "        return tf.keras.callbacks.ModelCheckpoint(\n",
    "            filepath=os.path.join(self.config.checkpoint_dir,\"model.keras\"),\n",
    "            save_best_only=True\n",
    "        )\n",
    "\n",
    "\n",
    "    def get_tb_ckpt_callbacks(self):\n",
    "        return [\n",
    "            self._create_tb_callbacks,\n",
    "            self._create_ckpt_callbacks\n",
    "        ]"
   ]
  },
  {
   "cell_type": "code",
   "execution_count": 58,
   "id": "d732233d",
   "metadata": {},
   "outputs": [
    {
     "name": "stdout",
     "output_type": "stream",
     "text": [
      "[2025-06-05 21:19:56,272: INFO: common: yaml file: config\\config.yaml loaded successfully]\n",
      "[2025-06-05 21:19:56,288: INFO: common: yaml file: params.yaml loaded successfully]\n",
      "[2025-06-05 21:19:56,290: INFO: common: created directory at: artifacts]\n",
      "[2025-06-05 21:19:56,290: INFO: common: created directory at: artifacts/prepare_callbacks/checkpoint_dir]\n",
      "[2025-06-05 21:19:56,298: INFO: common: created directory at: artifacts\\prepare_callbacks\\tensorboard_logs]\n"
     ]
    }
   ],
   "source": [
    "try:\n",
    "    config = ConfigurationManager()\n",
    "    prepare_callbacks_config = config.PrepareCallbackConfig()\n",
    "    prepare_callbacks = PrepareCallback(config=prepare_callbacks_config)\n",
    "    callback_list = prepare_callbacks.get_tb_ckpt_callbacks()\n",
    "    \n",
    "except Exception as e:\n",
    "    raise e"
   ]
  }
 ],
 "metadata": {
  "kernelspec": {
   "display_name": "Python 3",
   "language": "python",
   "name": "python3"
  },
  "language_info": {
   "codemirror_mode": {
    "name": "ipython",
    "version": 3
   },
   "file_extension": ".py",
   "mimetype": "text/x-python",
   "name": "python",
   "nbconvert_exporter": "python",
   "pygments_lexer": "ipython3",
   "version": "3.10.0"
  }
 },
 "nbformat": 4,
 "nbformat_minor": 5
}
